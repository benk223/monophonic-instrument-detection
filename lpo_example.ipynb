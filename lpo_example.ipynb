{
 "cells": [
  {
   "cell_type": "code",
   "execution_count": 1,
   "metadata": {},
   "outputs": [],
   "source": [
    "import numpy as np\n",
    "import librosa\n",
    "import datasets"
   ]
  },
  {
   "cell_type": "code",
   "execution_count": 4,
   "metadata": {},
   "outputs": [
    {
     "name": "stdout",
     "output_type": "stream",
     "text": [
      "[['lpo_samples/wind chimes/wind-chimes__long_mezzo-piano_hand.wav', array([-659.2144   ,  -79.24871  ,   12.686474 ,   29.148832 ,\n",
      "         13.369892 ,   32.757442 ,   32.890152 ,   12.462378 ,\n",
      "          2.164898 ,   12.251438 ,   17.433155 ,    6.9541516,\n",
      "         20.51869  ,    9.867283 ,  -15.694637 ,   23.854368 ,\n",
      "         13.633401 ,   13.78516  ,   -3.2269773,  -11.408493 ],\n",
      "      dtype=float32), 'wind chimes'], ['lpo_samples/tom-toms/tom-toms__05_mezzo-forte_struck-singly.wav', array([-5.9900653e+02,  4.0333950e+01,  1.0579648e+01,  3.9479780e+00,\n",
      "       -1.3105867e+00, -1.6238263e+00, -3.5192466e+00, -3.9733286e+00,\n",
      "       -5.0192647e+00, -4.1749363e+00, -2.5920820e+00, -2.6058574e+00,\n",
      "       -3.5318511e+00, -3.6955183e+00, -2.0941026e+00,  5.2034068e-01,\n",
      "       -1.9967569e-01, -6.5468508e-01, -1.1579264e+00, -1.6570336e+00],\n",
      "      dtype=float32), 'tom-toms']]\n"
     ]
    }
   ],
   "source": [
    "# Example loading of LPO dataset\n",
    "\n",
    "# limit to only 10 samples per instrument to speed things up\n",
    "lpo_test = datasets.get_dataset(name='lpo', feature='mfcc', limit=10)\n",
    "print(lpo_test[0:2]) # [[filename, feature, label], ...]"
   ]
  },
  {
   "cell_type": "code",
   "execution_count": null,
   "metadata": {},
   "outputs": [],
   "source": []
  }
 ],
 "metadata": {
  "kernelspec": {
   "display_name": "Python 3",
   "language": "python",
   "name": "python3"
  },
  "language_info": {
   "codemirror_mode": {
    "name": "ipython",
    "version": 3
   },
   "file_extension": ".py",
   "mimetype": "text/x-python",
   "name": "python",
   "nbconvert_exporter": "python",
   "pygments_lexer": "ipython3",
   "version": "3.7.9"
  }
 },
 "nbformat": 4,
 "nbformat_minor": 4
}
