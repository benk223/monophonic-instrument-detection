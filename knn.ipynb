{
 "cells": [
  {
   "cell_type": "code",
   "execution_count": 2,
   "metadata": {},
   "outputs": [],
   "source": [
    "import numpy as np\n",
    "import datasets\n",
    "import librosa\n",
    "from sklearn import neighbors\n",
    "from sklearn.model_selection import KFold"
   ]
  },
  {
   "cell_type": "code",
   "execution_count": 3,
   "metadata": {},
   "outputs": [
    {
     "name": "stdout",
     "output_type": "stream",
     "text": [
      "Created dataset\n"
     ]
    }
   ],
   "source": [
    "# get feature dataset from the lpo samples\n",
    "data = datasets.load_dataset(samples_dir='data/training_samples', feature='mfcc')\n",
    "print('Created dataset')"
   ]
  },
  {
   "cell_type": "code",
   "execution_count": 4,
   "metadata": {},
   "outputs": [],
   "source": [
    "def data_tuple(data):\n",
    "    filenames = np.array([a[0] for a in data])\n",
    "    features = np.array([a[1] for a in data])\n",
    "    labels = np.array([a[2] for a in data])\n",
    "    return (filenames, features, labels)"
   ]
  },
  {
   "cell_type": "code",
   "execution_count": 5,
   "metadata": {},
   "outputs": [
    {
     "name": "stdout",
     "output_type": "stream",
     "text": [
      "k-NN performance: 70.00% +/- 45.83%\n",
      "Testing accuracy: 100.00%: \n"
     ]
    }
   ],
   "source": [
    "knn = neighbors.KNeighborsClassifier(n_neighbors=5)\n",
    "\n",
    "# k-fold cross validation\n",
    "cv_k = 10\n",
    "kfold = KFold(cv_k, shuffle=True, random_state=1)\n",
    "\n",
    "filenames, features, labels = data_tuple(data)\n",
    "features = (features - features.mean(0)) / features.std(0) # standardize features\n",
    "\n",
    "scores = []\n",
    "\n",
    "for train, test in kfold.split(features):\n",
    "    knn.fit(features[train], labels[train])\n",
    "    scores.append(knn.score(features[test], labels[test]))\n",
    "\n",
    "scores = np.array(scores)\n",
    "print('k-NN performance: {:.2%} +/- {:.2%}'.format(scores.mean(), scores.std()))\n",
    "print('Testing accuracy: {:.2%}: '.format(knn.score(features, labels)))"
   ]
  },
  {
   "cell_type": "code",
   "execution_count": 6,
   "metadata": {},
   "outputs": [
    {
     "name": "stdout",
     "output_type": "stream",
     "text": [
      "['saxophone']\n"
     ]
    }
   ],
   "source": [
    "# testing on sample audio\n",
    "sample = librosa.load('data/test_samples/saxophone_A3_1_fortissimo_normal.wav', duration=32)\n",
    "feature = datasets.get_feature(sample)\n",
    "print(knn.predict([feature]))"
   ]
  },
  {
   "cell_type": "code",
   "execution_count": null,
   "metadata": {},
   "outputs": [],
   "source": []
  }
 ],
 "metadata": {
  "kernelspec": {
   "display_name": "Python 3",
   "language": "python",
   "name": "python3"
  },
  "language_info": {
   "codemirror_mode": {
    "name": "ipython",
    "version": 3
   },
   "file_extension": ".py",
   "mimetype": "text/x-python",
   "name": "python",
   "nbconvert_exporter": "python",
   "pygments_lexer": "ipython3",
   "version": "3.8.3"
  }
 },
 "nbformat": 4,
 "nbformat_minor": 4
}
