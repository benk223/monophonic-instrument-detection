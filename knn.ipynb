{
 "cells": [
  {
   "cell_type": "code",
   "execution_count": 4,
   "metadata": {},
   "outputs": [],
   "source": [
    "import numpy as np\n",
    "import datasets\n",
    "from sklearn import neighbors\n",
    "from sklearn.model_selection import KFold"
   ]
  },
  {
   "cell_type": "code",
   "execution_count": 5,
   "metadata": {},
   "outputs": [
    {
     "name": "stdout",
     "output_type": "stream",
     "text": [
      "Created dataset\n"
     ]
    }
   ],
   "source": [
    "# get feature dataset from the lpo samples\n",
    "data = datasets.get_dataset(name='lpo', feature='mfcc')\n",
    "print('Created dataset')"
   ]
  },
  {
   "cell_type": "code",
   "execution_count": 6,
   "metadata": {},
   "outputs": [],
   "source": [
    "def data_tuple(data):\n",
    "    filenames = [a[0] for a in data]\n",
    "    features = [a[1] for a in data]\n",
    "    labels = [a[2] for a in data]\n",
    "    return (filenames, features, labels)"
   ]
  },
  {
   "cell_type": "code",
   "execution_count": 9,
   "metadata": {},
   "outputs": [
    {
     "name": "stdout",
     "output_type": "stream",
     "text": [
      "Score:  0.8987681970884659\n"
     ]
    }
   ],
   "source": [
    "knn = neighbors.KNeighborsClassifier(n_neighbors=5)\n",
    "\n",
    "# k-fold cross validation\n",
    "cv_k = 10\n",
    "kfold = KFold(cv_k, shuffle=True, random_state=1)\n",
    "\n",
    "best_score = 0\n",
    "best_model = None\n",
    "\n",
    "for train, test in kfold.split(data):\n",
    "    train_data = data[train]\n",
    "    test_data = data[test]\n",
    "    _, train_features, train_labels = data_tuple(train_data)\n",
    "    _, test_features, test_labels = data_tuple(test_data)\n",
    "    model = knn.fit(train_features, train_labels)\n",
    "    score = model.score(test_features, test_labels)\n",
    "    if score > best_score:\n",
    "        best_model = model\n",
    "        best_score = score\n",
    "\n",
    "filenames, features, labels = data_tuple(data)\n",
    "\n",
    "print('Score: ', model.score(features, labels))"
   ]
  },
  {
   "cell_type": "code",
   "execution_count": null,
   "metadata": {},
   "outputs": [],
   "source": []
  }
 ],
 "metadata": {
  "kernelspec": {
   "display_name": "Python 3",
   "language": "python",
   "name": "python3"
  },
  "language_info": {
   "codemirror_mode": {
    "name": "ipython",
    "version": 3
   },
   "file_extension": ".py",
   "mimetype": "text/x-python",
   "name": "python",
   "nbconvert_exporter": "python",
   "pygments_lexer": "ipython3",
   "version": "3.7.9"
  }
 },
 "nbformat": 4,
 "nbformat_minor": 4
}
