{
 "cells": [
  {
   "cell_type": "code",
   "execution_count": 1,
   "metadata": {},
   "outputs": [],
   "source": [
    "import numpy as np\n",
    "import IPython.display as ipd\n",
    "import datasets\n",
    "import librosa\n",
    "\n",
    "from sklearn import preprocessing\n",
    "from sklearn import neighbors\n",
    "from sklearn.model_selection import KFold"
   ]
  },
  {
   "cell_type": "code",
   "execution_count": 2,
   "metadata": {},
   "outputs": [
    {
     "name": "stdout",
     "output_type": "stream",
     "text": [
      "Created dataset\n"
     ]
    }
   ],
   "source": [
    "train_data = datasets.load_dataset(samples_dir='data/training_samples', feature='mfcc', sample_dur=100)\n",
    "print('Created dataset')"
   ]
  },
  {
   "cell_type": "code",
   "execution_count": 3,
   "metadata": {},
   "outputs": [],
   "source": [
    "def data_tuple(data, standardize=True, normalize=True):\n",
    "    filenames = np.array([a[0] for a in data])\n",
    "    features = np.array([a[1] for a in data])\n",
    "    labels = np.array([a[2] for a in data])\n",
    "    \n",
    "    if standardize:\n",
    "        features = (features - features.mean(0)) / features.std(0)\n",
    "        \n",
    "    if normalize:\n",
    "        features = preprocessing.normalize(features)\n",
    "\n",
    "    return (filenames, features, labels)"
   ]
  },
  {
   "cell_type": "code",
   "execution_count": 4,
   "metadata": {},
   "outputs": [
    {
     "name": "stdout",
     "output_type": "stream",
     "text": [
      "k-NN performance: 70.00% +/- 40.00%\n",
      "Testing accuracy: 75.00%: \n"
     ]
    }
   ],
   "source": [
    "knn = neighbors.KNeighborsClassifier(n_neighbors=5)\n",
    "\n",
    "# k-fold cross validation\n",
    "cv_k = 10\n",
    "kfold = KFold(cv_k, shuffle=True, random_state=1)\n",
    "\n",
    "filenames, features, labels = data_tuple(train_data)\n",
    "\n",
    "scores = []\n",
    "\n",
    "for train, test in kfold.split(features):\n",
    "    knn.fit(features[train], labels[train])\n",
    "    scores.append(knn.score(features[test], labels[test]))\n",
    "\n",
    "scores = np.array(scores)\n",
    "print('k-NN performance: {:.2%} +/- {:.2%}'.format(scores.mean(), scores.std()))\n",
    "print('Testing accuracy: {:.2%}: '.format(knn.score(features, labels)))"
   ]
  },
  {
   "cell_type": "code",
   "execution_count": null,
   "metadata": {},
   "outputs": [],
   "source": [
    "test_data = datasets.load_dataset(samples_dir='data/test_samples', feature='mfcc', sample_dur=32)"
   ]
  },
  {
   "cell_type": "code",
   "execution_count": null,
   "metadata": {},
   "outputs": [],
   "source": [
    "filenames, features, labels = data_tuple(test_data)\n",
    "print('Test score: ', knn.score(features, labels))"
   ]
  },
  {
   "cell_type": "code",
   "execution_count": null,
   "metadata": {},
   "outputs": [],
   "source": [
    "# Predict random sample\n",
    "idx = np.random.choice(len(filenames), 1)[0]\n",
    "file = f'data/test_samples/{filenames[idx]}'\n",
    "y, sr = librosa.load(file)\n",
    "print(f'file: {file}')\n",
    "ipd.display(ipd.Audio(file, rate=sr))\n",
    "print('prediction: ', knn.predict([features[idx]]))"
   ]
  },
  {
   "cell_type": "code",
   "execution_count": null,
   "metadata": {},
   "outputs": [],
   "source": []
  }
 ],
 "metadata": {
  "kernelspec": {
   "display_name": "Python 3",
   "language": "python",
   "name": "python3"
  },
  "language_info": {
   "codemirror_mode": {
    "name": "ipython",
    "version": 3
   },
   "file_extension": ".py",
   "mimetype": "text/x-python",
   "name": "python",
   "nbconvert_exporter": "python",
   "pygments_lexer": "ipython3",
   "version": "3.7.9"
  }
 },
 "nbformat": 4,
 "nbformat_minor": 4
}
