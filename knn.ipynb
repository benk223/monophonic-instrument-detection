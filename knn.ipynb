{
 "cells": [
  {
   "cell_type": "code",
   "execution_count": 18,
   "metadata": {},
   "outputs": [],
   "source": [
    "import numpy as np\n",
    "import datasets\n",
    "import librosa\n",
    "from sklearn import neighbors\n",
    "from sklearn.model_selection import KFold"
   ]
  },
  {
   "cell_type": "code",
   "execution_count": 8,
   "metadata": {},
   "outputs": [
    {
     "name": "stdout",
     "output_type": "stream",
     "text": [
      "Created dataset\n"
     ]
    }
   ],
   "source": [
    "# get feature dataset from the lpo samples\n",
    "data = datasets.load_dataset(samples_dir='data/lpo_samples', feature='mfcc')\n",
    "print('Created dataset')"
   ]
  },
  {
   "cell_type": "code",
   "execution_count": 15,
   "metadata": {},
   "outputs": [],
   "source": [
    "def data_tuple(data):\n",
    "    filenames = np.array([a[0] for a in data])\n",
    "    features = np.array([a[1] for a in data])\n",
    "    labels = np.array([a[2] for a in data])\n",
    "    return (filenames, features, labels)"
   ]
  },
  {
   "cell_type": "code",
   "execution_count": 40,
   "metadata": {},
   "outputs": [
    {
     "name": "stdout",
     "output_type": "stream",
     "text": [
      "k-NN performance: 92.25% +/- 0.55%\n",
      "Testing accuracy: 95.30%: \n"
     ]
    }
   ],
   "source": [
    "knn = neighbors.KNeighborsClassifier(n_neighbors=5)\n",
    "\n",
    "# k-fold cross validation\n",
    "cv_k = 10\n",
    "kfold = KFold(cv_k, shuffle=True, random_state=1)\n",
    "\n",
    "filenames, features, labels = data_tuple(data)\n",
    "features = (features - features.mean(0)) / features.std(0) # standardize features\n",
    "\n",
    "scores = []\n",
    "\n",
    "for train, test in kfold.split(features):\n",
    "    knn.fit(features[train], labels[train])\n",
    "    scores.append(knn.score(features[test], labels[test]))\n",
    "\n",
    "scores = np.array(scores)\n",
    "print('k-NN performance: {:.2%} +/- {:.2%}'.format(scores.mean(), scores.std()))\n",
    "print('Testing accuracy: {:.2%}: '.format(knn.score(features, labels)))"
   ]
  },
  {
   "cell_type": "code",
   "execution_count": 43,
   "metadata": {},
   "outputs": [
    {
     "name": "stdout",
     "output_type": "stream",
     "text": [
      "['flute']\n"
     ]
    }
   ],
   "source": [
    "# testing on sample audio\n",
    "sample = librosa.load('data/test_samples/flute_A440.wav', duration=1)\n",
    "feature = datasets.get_feature(sample)\n",
    "print(knn.predict([feature]))"
   ]
  },
  {
   "cell_type": "code",
   "execution_count": null,
   "metadata": {},
   "outputs": [],
   "source": []
  }
 ],
 "metadata": {
  "kernelspec": {
   "display_name": "Python 3",
   "language": "python",
   "name": "python3"
  }
 },
 "nbformat": 4,
 "nbformat_minor": 4
}
